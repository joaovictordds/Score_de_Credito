{
  "cells": [
    {
      "cell_type": "code",
      "execution_count": 2,
      "metadata": {
        "id": "Ow-uhYTz8Unh"
      },
      "outputs": [],
      "source": [
        "import numpy as np\n",
        "import pandas as pd"
      ]
    },
    {
      "cell_type": "code",
      "execution_count": 3,
      "metadata": {
        "colab": {
          "base_uri": "https://localhost:8080/",
          "height": 130
        },
        "id": "Zxfkhwe48duy",
        "outputId": "d8412450-cbaa-45a9-df38-ade8f9edb33f"
      },
      "outputs": [
        {
          "data": {
            "text/html": [
              "<div>\n",
              "<style scoped>\n",
              "    .dataframe tbody tr th:only-of-type {\n",
              "        vertical-align: middle;\n",
              "    }\n",
              "\n",
              "    .dataframe tbody tr th {\n",
              "        vertical-align: top;\n",
              "    }\n",
              "\n",
              "    .dataframe thead th {\n",
              "        text-align: right;\n",
              "    }\n",
              "</style>\n",
              "<table border=\"1\" class=\"dataframe\">\n",
              "  <thead>\n",
              "    <tr style=\"text-align: right;\">\n",
              "      <th></th>\n",
              "      <th>Creditability</th>\n",
              "      <th>Account_Balance</th>\n",
              "      <th>Duration_of_Credit_monthly</th>\n",
              "      <th>Payment_Status_of_Previous_Credit</th>\n",
              "      <th>Purpose</th>\n",
              "      <th>Credit_Amount</th>\n",
              "      <th>Value_Savings_Stocks</th>\n",
              "      <th>Length_of_current_employment</th>\n",
              "      <th>Instalment_per_cent</th>\n",
              "      <th>Sex_Marital_Status</th>\n",
              "      <th>...</th>\n",
              "      <th>Duration_in_Current_address</th>\n",
              "      <th>Most_valuable_available_asset</th>\n",
              "      <th>Age_years</th>\n",
              "      <th>Concurrent_Credits</th>\n",
              "      <th>Type_of_apartment</th>\n",
              "      <th>No_of_Credits_at_this_Bank</th>\n",
              "      <th>Occupation</th>\n",
              "      <th>No_of_dependents</th>\n",
              "      <th>Telephone</th>\n",
              "      <th>Foreign_Worker</th>\n",
              "    </tr>\n",
              "  </thead>\n",
              "  <tbody>\n",
              "    <tr>\n",
              "      <th>0</th>\n",
              "      <td>1</td>\n",
              "      <td>1</td>\n",
              "      <td>18</td>\n",
              "      <td>4</td>\n",
              "      <td>2</td>\n",
              "      <td>1049</td>\n",
              "      <td>1</td>\n",
              "      <td>2</td>\n",
              "      <td>4</td>\n",
              "      <td>2</td>\n",
              "      <td>...</td>\n",
              "      <td>4</td>\n",
              "      <td>2</td>\n",
              "      <td>21</td>\n",
              "      <td>3</td>\n",
              "      <td>1</td>\n",
              "      <td>1</td>\n",
              "      <td>3</td>\n",
              "      <td>1</td>\n",
              "      <td>1</td>\n",
              "      <td>1</td>\n",
              "    </tr>\n",
              "  </tbody>\n",
              "</table>\n",
              "<p>1 rows × 21 columns</p>\n",
              "</div>"
            ],
            "text/plain": [
              "   Creditability  Account_Balance  Duration_of_Credit_monthly  \\\n",
              "0              1                1                          18   \n",
              "\n",
              "   Payment_Status_of_Previous_Credit  Purpose  Credit_Amount  \\\n",
              "0                                  4        2           1049   \n",
              "\n",
              "   Value_Savings_Stocks  Length_of_current_employment  Instalment_per_cent  \\\n",
              "0                     1                             2                    4   \n",
              "\n",
              "   Sex_Marital_Status  ...  Duration_in_Current_address  \\\n",
              "0                   2  ...                            4   \n",
              "\n",
              "   Most_valuable_available_asset  Age_years  Concurrent_Credits  \\\n",
              "0                              2         21                   3   \n",
              "\n",
              "   Type_of_apartment  No_of_Credits_at_this_Bank  Occupation  \\\n",
              "0                  1                           1           3   \n",
              "\n",
              "   No_of_dependents  Telephone  Foreign_Worker  \n",
              "0                 1          1               1  \n",
              "\n",
              "[1 rows x 21 columns]"
            ]
          },
          "execution_count": 3,
          "metadata": {},
          "output_type": "execute_result"
        }
      ],
      "source": [
        "dados= pd.read_csv('https://raw.githubusercontent.com/joaovictordds/Score_de_Credito/main/german.csv', sep=';')\n",
        "dados.head(1)"
      ]
    },
    {
      "cell_type": "code",
      "execution_count": 4,
      "metadata": {
        "colab": {
          "base_uri": "https://localhost:8080/",
          "height": 81
        },
        "id": "eO0QPJKN8dxh",
        "outputId": "001da0ea-2dda-4299-ed9d-888afb7a061c"
      },
      "outputs": [
        {
          "data": {
            "text/html": [
              "<div>\n",
              "<style scoped>\n",
              "    .dataframe tbody tr th:only-of-type {\n",
              "        vertical-align: middle;\n",
              "    }\n",
              "\n",
              "    .dataframe tbody tr th {\n",
              "        vertical-align: top;\n",
              "    }\n",
              "\n",
              "    .dataframe thead th {\n",
              "        text-align: right;\n",
              "    }\n",
              "</style>\n",
              "<table border=\"1\" class=\"dataframe\">\n",
              "  <thead>\n",
              "    <tr style=\"text-align: right;\">\n",
              "      <th></th>\n",
              "      <th>Creditability</th>\n",
              "      <th>Credit_Amount</th>\n",
              "      <th>Duration_of_Credit_monthly</th>\n",
              "      <th>Account_Balance</th>\n",
              "      <th>Length_of_current_employment</th>\n",
              "      <th>Sex_Marital_Status</th>\n",
              "      <th>Age_years</th>\n",
              "      <th>No_of_Credits_at_this_Bank</th>\n",
              "    </tr>\n",
              "  </thead>\n",
              "  <tbody>\n",
              "    <tr>\n",
              "      <th>0</th>\n",
              "      <td>1</td>\n",
              "      <td>1049</td>\n",
              "      <td>18</td>\n",
              "      <td>1</td>\n",
              "      <td>2</td>\n",
              "      <td>2</td>\n",
              "      <td>21</td>\n",
              "      <td>1</td>\n",
              "    </tr>\n",
              "  </tbody>\n",
              "</table>\n",
              "</div>"
            ],
            "text/plain": [
              "   Creditability  Credit_Amount  Duration_of_Credit_monthly  Account_Balance  \\\n",
              "0              1           1049                          18                1   \n",
              "\n",
              "   Length_of_current_employment  Sex_Marital_Status  Age_years  \\\n",
              "0                             2                   2         21   \n",
              "\n",
              "   No_of_Credits_at_this_Bank  \n",
              "0                           1  "
            ]
          },
          "execution_count": 4,
          "metadata": {},
          "output_type": "execute_result"
        }
      ],
      "source": [
        "# Selecionando algumas variaveis para treino/testes\n",
        "df = dados[['Creditability', 'Credit_Amount', 'Duration_of_Credit_monthly','Account_Balance','Length_of_current_employment','Sex_Marital_Status','Age_years', 'No_of_Credits_at_this_Bank']]\n",
        "df.head(1)"
      ]
    },
    {
      "cell_type": "code",
      "execution_count": 17,
      "metadata": {
        "colab": {
          "base_uri": "https://localhost:8080/"
        },
        "id": "q1aSv1WA9cUe",
        "outputId": "6e38a80c-9638-42e0-afa5-1fca9efae13f"
      },
      "outputs": [
        {
          "name": "stdout",
          "output_type": "stream",
          "text": [
            "Média do Erro Quadrático Médio: 4730844.5051\n"
          ]
        },
        {
          "data": {
            "text/plain": [
              "['modelo_regressao.pkl']"
            ]
          },
          "execution_count": 17,
          "metadata": {},
          "output_type": "execute_result"
        }
      ],
      "source": [
        "from sklearn.model_selection import KFold, cross_val_score\n",
        "from sklearn.preprocessing import OneHotEncoder, StandardScaler\n",
        "from sklearn.pipeline import Pipeline\n",
        "from sklearn.linear_model import LinearRegression\n",
        "from sklearn.compose import ColumnTransformer\n",
        "import joblib\n",
        "\n",
        "# Seus dados e variáveis\n",
        "X = df.drop('Credit_Amount', axis=1)\n",
        "y = df['Credit_Amount']\n",
        "\n",
        "# Defina as colunas categóricas e numéricas (ajuste conforme o seu conjunto de dados)\n",
        "categorical_cols = ['Creditability', 'Account_Balance', 'Length_of_current_employment', 'Sex_Marital_Status', 'No_of_Credits_at_this_Bank']  # Lista das colunas categóricas\n",
        "numeric_cols = ['Duration_of_Credit_monthly', 'Age_years']  # Lista das colunas numéricas\n",
        "\n",
        "# Crie o ColumnTransformer para aplicar transformações diferentes às colunas categóricas e numéricas\n",
        "preprocessor = ColumnTransformer(transformers=[('num', StandardScaler(), numeric_cols),  # Normaliza as colunas numéricas\n",
        "                                               ('cat', OneHotEncoder(), categorical_cols)])  # Aplica OneHotEncoder nas colunas categóricas\n",
        "\n",
        "# Crie o pipeline com as etapas desejadas\n",
        "modelo = Pipeline([('preprocessor', preprocessor), ('regressor', LinearRegression())])\n",
        "\n",
        "# Especifique o número de folds para a validação cruzada (ex: 5 folds)\n",
        "kf = KFold(n_splits=5, shuffle=True, random_state=42)\n",
        "\n",
        "# Realize a validação cruzada e calcule a média do erro quadrático médio negativo\n",
        "neg_mse_scores = cross_val_score(modelo, X, y, cv=kf, scoring='neg_mean_squared_error')\n",
        "\n",
        "# Transforme os scores negativos para positivos\n",
        "mse_scores = -neg_mse_scores\n",
        "\n",
        "# Exiba a média do erro quadrático médio\n",
        "print(\"Média do Erro Quadrático Médio:\", np.mean(mse_scores).round(4))\n",
        "\n",
        "# Ajuste o modelo ao conjunto de dados completo\n",
        "modelo.fit(X, y)\n",
        "\n",
        "# Salve o modelo em um arquivo .pkl\n",
        "joblib.dump(modelo, 'modelo_regressao.pkl')"
      ]
    },
    {
      "cell_type": "code",
      "execution_count": 18,
      "metadata": {},
      "outputs": [],
      "source": [
        "# Criando um novo DataFrame para novos dados\n",
        "nvds = pd.DataFrame(columns=['Creditability','Account_Balance','Duration_of_Credit_monthly', 'Length_of_current_employment', 'Sex_Marital_Status', 'Age_years', 'No_of_Credits_at_this_Bank'])\n",
        "nvds.loc[0, 'Creditability'] = 1\n",
        "nvds.loc[0, 'Account_Balance'] = 2\n",
        "nvds.loc[0, 'Duration_of_Credit_monthly'] = 36\n",
        "nvds.loc[0, 'Length_of_current_employment'] = 1\n",
        "nvds.loc[0, 'Sex_Marital_Status'] = 1\n",
        "nvds.loc[0, 'Age_years'] = 19\n",
        "nvds.loc[0, 'No_of_Credits_at_this_Bank'] = 1\n",
        "#nvds.astype(float)"
      ]
    },
    {
      "cell_type": "code",
      "execution_count": 19,
      "metadata": {},
      "outputs": [
        {
          "name": "stdout",
          "output_type": "stream",
          "text": [
            "Sugestão de valor: $ [6687.24]\n"
          ]
        }
      ],
      "source": [
        "previsao_novos_dados = modelo.predict(nvds)\n",
        "valor = previsao_novos_dados.astype(float)\n",
        "print(f'Sugestão de valor: $ {valor.round(2)}')"
      ]
    }
  ],
  "metadata": {
    "colab": {
      "provenance": []
    },
    "kernelspec": {
      "display_name": "Python 3",
      "name": "python3"
    },
    "language_info": {
      "codemirror_mode": {
        "name": "ipython",
        "version": 3
      },
      "file_extension": ".py",
      "mimetype": "text/x-python",
      "name": "python",
      "nbconvert_exporter": "python",
      "pygments_lexer": "ipython3",
      "version": "3.12.0"
    }
  },
  "nbformat": 4,
  "nbformat_minor": 0
}
